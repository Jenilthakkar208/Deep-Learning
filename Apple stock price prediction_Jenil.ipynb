{
 "cells": [
  {
   "cell_type": "markdown",
   "id": "644e6292-fc2d-40a0-9e01-0fb4372a8d46",
   "metadata": {
    "tags": []
   },
   "source": [
    "# ___________Apple Stock Price Prediction_____"
   ]
  },
  {
   "cell_type": "markdown",
   "id": "a472ae61-a2c2-446a-bc1b-0ff7e4e7071d",
   "metadata": {},
   "source": [
    "### importing necessary libraries"
   ]
  },
  {
   "cell_type": "code",
   "execution_count": 5,
   "id": "23986dce",
   "metadata": {},
   "outputs": [],
   "source": [
    "import pandas as pd\n",
    "import numpy as np\n",
    "import matplotlib.pyplot as plt\n",
    "import seaborn as sns\n",
    "%matplotlib inline"
   ]
  },
  {
   "cell_type": "markdown",
   "id": "ca5cc6d7-e4a9-4c84-b710-01184b4a5c83",
   "metadata": {},
   "source": [
    "### reading the data file"
   ]
  },
  {
   "cell_type": "code",
   "execution_count": 7,
   "id": "00d51a0a",
   "metadata": {},
   "outputs": [],
   "source": [
    "df=pd.read_csv(\"AAPL.csv\")"
   ]
  },
  {
   "cell_type": "code",
   "execution_count": 10,
   "id": "10394205",
   "metadata": {},
   "outputs": [
    {
     "data": {
      "text/html": [
       "<div>\n",
       "<style scoped>\n",
       "    .dataframe tbody tr th:only-of-type {\n",
       "        vertical-align: middle;\n",
       "    }\n",
       "\n",
       "    .dataframe tbody tr th {\n",
       "        vertical-align: top;\n",
       "    }\n",
       "\n",
       "    .dataframe thead th {\n",
       "        text-align: right;\n",
       "    }\n",
       "</style>\n",
       "<table border=\"1\" class=\"dataframe\">\n",
       "  <thead>\n",
       "    <tr style=\"text-align: right;\">\n",
       "      <th></th>\n",
       "      <th>Unnamed: 0</th>\n",
       "      <th>symbol</th>\n",
       "      <th>date</th>\n",
       "      <th>close</th>\n",
       "      <th>high</th>\n",
       "      <th>low</th>\n",
       "      <th>open</th>\n",
       "      <th>volume</th>\n",
       "      <th>adjClose</th>\n",
       "      <th>adjHigh</th>\n",
       "      <th>adjLow</th>\n",
       "      <th>adjOpen</th>\n",
       "      <th>adjVolume</th>\n",
       "      <th>divCash</th>\n",
       "      <th>splitFactor</th>\n",
       "    </tr>\n",
       "  </thead>\n",
       "  <tbody>\n",
       "    <tr>\n",
       "      <th>0</th>\n",
       "      <td>0</td>\n",
       "      <td>AAPL</td>\n",
       "      <td>2015-05-27 00:00:00+00:00</td>\n",
       "      <td>132.045</td>\n",
       "      <td>132.260</td>\n",
       "      <td>130.05</td>\n",
       "      <td>130.34</td>\n",
       "      <td>45833246</td>\n",
       "      <td>121.682558</td>\n",
       "      <td>121.880685</td>\n",
       "      <td>119.844118</td>\n",
       "      <td>120.111360</td>\n",
       "      <td>45833246</td>\n",
       "      <td>0.0</td>\n",
       "      <td>1.0</td>\n",
       "    </tr>\n",
       "    <tr>\n",
       "      <th>1</th>\n",
       "      <td>1</td>\n",
       "      <td>AAPL</td>\n",
       "      <td>2015-05-28 00:00:00+00:00</td>\n",
       "      <td>131.780</td>\n",
       "      <td>131.950</td>\n",
       "      <td>131.10</td>\n",
       "      <td>131.86</td>\n",
       "      <td>30733309</td>\n",
       "      <td>121.438354</td>\n",
       "      <td>121.595013</td>\n",
       "      <td>120.811718</td>\n",
       "      <td>121.512076</td>\n",
       "      <td>30733309</td>\n",
       "      <td>0.0</td>\n",
       "      <td>1.0</td>\n",
       "    </tr>\n",
       "    <tr>\n",
       "      <th>2</th>\n",
       "      <td>2</td>\n",
       "      <td>AAPL</td>\n",
       "      <td>2015-05-29 00:00:00+00:00</td>\n",
       "      <td>130.280</td>\n",
       "      <td>131.450</td>\n",
       "      <td>129.90</td>\n",
       "      <td>131.23</td>\n",
       "      <td>50884452</td>\n",
       "      <td>120.056069</td>\n",
       "      <td>121.134251</td>\n",
       "      <td>119.705890</td>\n",
       "      <td>120.931516</td>\n",
       "      <td>50884452</td>\n",
       "      <td>0.0</td>\n",
       "      <td>1.0</td>\n",
       "    </tr>\n",
       "    <tr>\n",
       "      <th>3</th>\n",
       "      <td>3</td>\n",
       "      <td>AAPL</td>\n",
       "      <td>2015-06-01 00:00:00+00:00</td>\n",
       "      <td>130.535</td>\n",
       "      <td>131.390</td>\n",
       "      <td>130.05</td>\n",
       "      <td>131.20</td>\n",
       "      <td>32112797</td>\n",
       "      <td>120.291057</td>\n",
       "      <td>121.078960</td>\n",
       "      <td>119.844118</td>\n",
       "      <td>120.903870</td>\n",
       "      <td>32112797</td>\n",
       "      <td>0.0</td>\n",
       "      <td>1.0</td>\n",
       "    </tr>\n",
       "    <tr>\n",
       "      <th>4</th>\n",
       "      <td>4</td>\n",
       "      <td>AAPL</td>\n",
       "      <td>2015-06-02 00:00:00+00:00</td>\n",
       "      <td>129.960</td>\n",
       "      <td>130.655</td>\n",
       "      <td>129.32</td>\n",
       "      <td>129.86</td>\n",
       "      <td>33667627</td>\n",
       "      <td>119.761181</td>\n",
       "      <td>120.401640</td>\n",
       "      <td>119.171406</td>\n",
       "      <td>119.669029</td>\n",
       "      <td>33667627</td>\n",
       "      <td>0.0</td>\n",
       "      <td>1.0</td>\n",
       "    </tr>\n",
       "  </tbody>\n",
       "</table>\n",
       "</div>"
      ],
      "text/plain": [
       "   Unnamed: 0 symbol                       date    close     high     low  \\\n",
       "0           0   AAPL  2015-05-27 00:00:00+00:00  132.045  132.260  130.05   \n",
       "1           1   AAPL  2015-05-28 00:00:00+00:00  131.780  131.950  131.10   \n",
       "2           2   AAPL  2015-05-29 00:00:00+00:00  130.280  131.450  129.90   \n",
       "3           3   AAPL  2015-06-01 00:00:00+00:00  130.535  131.390  130.05   \n",
       "4           4   AAPL  2015-06-02 00:00:00+00:00  129.960  130.655  129.32   \n",
       "\n",
       "     open    volume    adjClose     adjHigh      adjLow     adjOpen  \\\n",
       "0  130.34  45833246  121.682558  121.880685  119.844118  120.111360   \n",
       "1  131.86  30733309  121.438354  121.595013  120.811718  121.512076   \n",
       "2  131.23  50884452  120.056069  121.134251  119.705890  120.931516   \n",
       "3  131.20  32112797  120.291057  121.078960  119.844118  120.903870   \n",
       "4  129.86  33667627  119.761181  120.401640  119.171406  119.669029   \n",
       "\n",
       "   adjVolume  divCash  splitFactor  \n",
       "0   45833246      0.0          1.0  \n",
       "1   30733309      0.0          1.0  \n",
       "2   50884452      0.0          1.0  \n",
       "3   32112797      0.0          1.0  \n",
       "4   33667627      0.0          1.0  "
      ]
     },
     "execution_count": 10,
     "metadata": {},
     "output_type": "execute_result"
    }
   ],
   "source": [
    "df.head()"
   ]
  },
  {
   "cell_type": "code",
   "execution_count": 11,
   "id": "745d88c3",
   "metadata": {},
   "outputs": [
    {
     "data": {
      "text/html": [
       "<div>\n",
       "<style scoped>\n",
       "    .dataframe tbody tr th:only-of-type {\n",
       "        vertical-align: middle;\n",
       "    }\n",
       "\n",
       "    .dataframe tbody tr th {\n",
       "        vertical-align: top;\n",
       "    }\n",
       "\n",
       "    .dataframe thead th {\n",
       "        text-align: right;\n",
       "    }\n",
       "</style>\n",
       "<table border=\"1\" class=\"dataframe\">\n",
       "  <thead>\n",
       "    <tr style=\"text-align: right;\">\n",
       "      <th></th>\n",
       "      <th>Unnamed: 0</th>\n",
       "      <th>symbol</th>\n",
       "      <th>date</th>\n",
       "      <th>close</th>\n",
       "      <th>high</th>\n",
       "      <th>low</th>\n",
       "      <th>open</th>\n",
       "      <th>volume</th>\n",
       "      <th>adjClose</th>\n",
       "      <th>adjHigh</th>\n",
       "      <th>adjLow</th>\n",
       "      <th>adjOpen</th>\n",
       "      <th>adjVolume</th>\n",
       "      <th>divCash</th>\n",
       "      <th>splitFactor</th>\n",
       "    </tr>\n",
       "  </thead>\n",
       "  <tbody>\n",
       "    <tr>\n",
       "      <th>1253</th>\n",
       "      <td>1253</td>\n",
       "      <td>AAPL</td>\n",
       "      <td>2020-05-18 00:00:00+00:00</td>\n",
       "      <td>314.96</td>\n",
       "      <td>316.50</td>\n",
       "      <td>310.3241</td>\n",
       "      <td>313.17</td>\n",
       "      <td>33843125</td>\n",
       "      <td>314.96</td>\n",
       "      <td>316.50</td>\n",
       "      <td>310.3241</td>\n",
       "      <td>313.17</td>\n",
       "      <td>33843125</td>\n",
       "      <td>0.0</td>\n",
       "      <td>1.0</td>\n",
       "    </tr>\n",
       "    <tr>\n",
       "      <th>1254</th>\n",
       "      <td>1254</td>\n",
       "      <td>AAPL</td>\n",
       "      <td>2020-05-19 00:00:00+00:00</td>\n",
       "      <td>313.14</td>\n",
       "      <td>318.52</td>\n",
       "      <td>313.0100</td>\n",
       "      <td>315.03</td>\n",
       "      <td>25432385</td>\n",
       "      <td>313.14</td>\n",
       "      <td>318.52</td>\n",
       "      <td>313.0100</td>\n",
       "      <td>315.03</td>\n",
       "      <td>25432385</td>\n",
       "      <td>0.0</td>\n",
       "      <td>1.0</td>\n",
       "    </tr>\n",
       "    <tr>\n",
       "      <th>1255</th>\n",
       "      <td>1255</td>\n",
       "      <td>AAPL</td>\n",
       "      <td>2020-05-20 00:00:00+00:00</td>\n",
       "      <td>319.23</td>\n",
       "      <td>319.52</td>\n",
       "      <td>316.2000</td>\n",
       "      <td>316.68</td>\n",
       "      <td>27876215</td>\n",
       "      <td>319.23</td>\n",
       "      <td>319.52</td>\n",
       "      <td>316.2000</td>\n",
       "      <td>316.68</td>\n",
       "      <td>27876215</td>\n",
       "      <td>0.0</td>\n",
       "      <td>1.0</td>\n",
       "    </tr>\n",
       "    <tr>\n",
       "      <th>1256</th>\n",
       "      <td>1256</td>\n",
       "      <td>AAPL</td>\n",
       "      <td>2020-05-21 00:00:00+00:00</td>\n",
       "      <td>316.85</td>\n",
       "      <td>320.89</td>\n",
       "      <td>315.8700</td>\n",
       "      <td>318.66</td>\n",
       "      <td>25672211</td>\n",
       "      <td>316.85</td>\n",
       "      <td>320.89</td>\n",
       "      <td>315.8700</td>\n",
       "      <td>318.66</td>\n",
       "      <td>25672211</td>\n",
       "      <td>0.0</td>\n",
       "      <td>1.0</td>\n",
       "    </tr>\n",
       "    <tr>\n",
       "      <th>1257</th>\n",
       "      <td>1257</td>\n",
       "      <td>AAPL</td>\n",
       "      <td>2020-05-22 00:00:00+00:00</td>\n",
       "      <td>318.89</td>\n",
       "      <td>319.23</td>\n",
       "      <td>315.3500</td>\n",
       "      <td>315.77</td>\n",
       "      <td>20450754</td>\n",
       "      <td>318.89</td>\n",
       "      <td>319.23</td>\n",
       "      <td>315.3500</td>\n",
       "      <td>315.77</td>\n",
       "      <td>20450754</td>\n",
       "      <td>0.0</td>\n",
       "      <td>1.0</td>\n",
       "    </tr>\n",
       "  </tbody>\n",
       "</table>\n",
       "</div>"
      ],
      "text/plain": [
       "      Unnamed: 0 symbol                       date   close    high       low  \\\n",
       "1253        1253   AAPL  2020-05-18 00:00:00+00:00  314.96  316.50  310.3241   \n",
       "1254        1254   AAPL  2020-05-19 00:00:00+00:00  313.14  318.52  313.0100   \n",
       "1255        1255   AAPL  2020-05-20 00:00:00+00:00  319.23  319.52  316.2000   \n",
       "1256        1256   AAPL  2020-05-21 00:00:00+00:00  316.85  320.89  315.8700   \n",
       "1257        1257   AAPL  2020-05-22 00:00:00+00:00  318.89  319.23  315.3500   \n",
       "\n",
       "        open    volume  adjClose  adjHigh    adjLow  adjOpen  adjVolume  \\\n",
       "1253  313.17  33843125    314.96   316.50  310.3241   313.17   33843125   \n",
       "1254  315.03  25432385    313.14   318.52  313.0100   315.03   25432385   \n",
       "1255  316.68  27876215    319.23   319.52  316.2000   316.68   27876215   \n",
       "1256  318.66  25672211    316.85   320.89  315.8700   318.66   25672211   \n",
       "1257  315.77  20450754    318.89   319.23  315.3500   315.77   20450754   \n",
       "\n",
       "      divCash  splitFactor  \n",
       "1253      0.0          1.0  \n",
       "1254      0.0          1.0  \n",
       "1255      0.0          1.0  \n",
       "1256      0.0          1.0  \n",
       "1257      0.0          1.0  "
      ]
     },
     "execution_count": 11,
     "metadata": {},
     "output_type": "execute_result"
    }
   ],
   "source": [
    "df.tail()"
   ]
  },
  {
   "cell_type": "markdown",
   "id": "3c148588-1cac-4606-823b-668db0a946b6",
   "metadata": {
    "tags": []
   },
   "source": [
    "### So the data shows, initial date as 2015-05-27 and last date as 2020-05-22"
   ]
  },
  {
   "cell_type": "code",
   "execution_count": 14,
   "id": "3161b03f",
   "metadata": {},
   "outputs": [],
   "source": [
    "df1=df.reset_index()[\"close\"]"
   ]
  },
  {
   "cell_type": "code",
   "execution_count": 15,
   "id": "68794473",
   "metadata": {},
   "outputs": [
    {
     "data": {
      "text/plain": [
       "0       132.045\n",
       "1       131.780\n",
       "2       130.280\n",
       "3       130.535\n",
       "4       129.960\n",
       "         ...   \n",
       "1253    314.960\n",
       "1254    313.140\n",
       "1255    319.230\n",
       "1256    316.850\n",
       "1257    318.890\n",
       "Name: close, Length: 1258, dtype: float64"
      ]
     },
     "execution_count": 15,
     "metadata": {},
     "output_type": "execute_result"
    }
   ],
   "source": [
    "df1"
   ]
  },
  {
   "cell_type": "markdown",
   "id": "e68b09a9-a1a7-4a23-b286-38dc6804cfc5",
   "metadata": {},
   "source": [
    "### Plotting the \"close\" attribute pattern"
   ]
  },
  {
   "cell_type": "code",
   "execution_count": 16,
   "id": "aab73428",
   "metadata": {},
   "outputs": [
    {
     "data": {
      "text/plain": [
       "[<matplotlib.lines.Line2D at 0x29a211f1310>]"
      ]
     },
     "execution_count": 16,
     "metadata": {},
     "output_type": "execute_result"
    },
    {
     "data": {
      "image/png": "[encoded data removed]",
      "text/plain": [
       "<Figure size 640x480 with 1 Axes>"
      ]
     },
     "metadata": {},
     "output_type": "display_data"
    }
   ],
   "source": [
    "plt.plot(df1)"
   ]
  },
  {
   "cell_type": "markdown",
   "id": "979f041e-f44d-4aac-b664-a670b5cbc5f0",
   "metadata": {},
   "source": [
    "### scaling down all the values between 0 to 1"
   ]
  },
  {
   "cell_type": "code",
   "execution_count": 17,
   "id": "a8882ef9",
   "metadata": {},
   "outputs": [],
   "source": [
    "from sklearn.preprocessing import MinMaxScaler"
   ]
  },
  {
   "cell_type": "code",
   "execution_count": 18,
   "id": "b252636b",
   "metadata": {},
   "outputs": [],
   "source": [
    "mmscaler=MinMaxScaler()"
   ]
  },
  {
   "cell_type": "code",
   "execution_count": 19,
   "id": "3de1d4a0",
   "metadata": {},
   "outputs": [
    {
     "data": {
      "text/plain": [
       "array([[0.17607447],\n",
       "       [0.17495567],\n",
       "       [0.16862282],\n",
       "       ...,\n",
       "       [0.96635143],\n",
       "       [0.9563033 ],\n",
       "       [0.96491598]])"
      ]
     },
     "execution_count": 19,
     "metadata": {},
     "output_type": "execute_result"
    }
   ],
   "source": [
    "df1=mmscaler.fit_transform(np.array(df1).reshape(-1,1))\n",
    "df1"
   ]
  },
  {
   "cell_type": "code",
   "execution_count": 20,
   "id": "19f08cec",
   "metadata": {},
   "outputs": [
    {
     "data": {
      "text/plain": [
       "[<matplotlib.lines.Line2D at 0x29a21c7aa00>]"
      ]
     },
     "execution_count": 20,
     "metadata": {},
     "output_type": "execute_result"
    },
    {
     "data": {
      "image/png": "[encoded data removed]",
      "text/plain": [
       "<Figure size 640x480 with 1 Axes>"
      ]
     },
     "metadata": {},
     "output_type": "display_data"
    }
   ],
   "source": [
    "plt.plot(df1)"
   ]
  },
  {
   "cell_type": "markdown",
   "id": "456a4775-0975-4e51-8a83-b678307f32c1",
   "metadata": {},
   "source": [
    "### dividing the data into two parts initially"
   ]
  },
  {
   "cell_type": "code",
   "execution_count": 24,
   "id": "9e03a43c",
   "metadata": {},
   "outputs": [],
   "source": [
    "training_size=int(len(df1)*0.65)\n",
    "test_size=len(df1)-training_size"
   ]
  },
  {
   "cell_type": "code",
   "execution_count": 35,
   "id": "fbe1f73a",
   "metadata": {},
   "outputs": [
    {
     "data": {
      "text/plain": [
       "(817, 441)"
      ]
     },
     "execution_count": 35,
     "metadata": {},
     "output_type": "execute_result"
    }
   ],
   "source": [
    "training_size,test_size"
   ]
  },
  {
   "cell_type": "code",
   "execution_count": 33,
   "id": "31b2f04f",
   "metadata": {},
   "outputs": [],
   "source": [
    "training_dataset,testing_dataset=df1[:training_size],df1[training_size:len(df1)]"
   ]
  },
  {
   "cell_type": "code",
   "execution_count": 34,
   "id": "6970c9e1",
   "metadata": {},
   "outputs": [
    {
     "data": {
      "text/plain": [
       "((817, 1), (441, 1))"
      ]
     },
     "execution_count": 34,
     "metadata": {},
     "output_type": "execute_result"
    }
   ],
   "source": [
    "training_dataset.shape,testing_dataset.shape"
   ]
  },
  {
   "cell_type": "markdown",
   "id": "e4e33d02-8a41-4a8d-a732-6171277a6593",
   "metadata": {},
   "source": [
    "### defined a function which will give arrays according to the used given training days  "
   ]
  },
  {
   "cell_type": "code",
   "execution_count": 48,
   "id": "daacf97e",
   "metadata": {},
   "outputs": [],
   "source": [
    "import numpy\n",
    "def create_dataset(dataset, time_step=1):\n",
    "    dataX, dataY = [], []\n",
    "    for i in range(len(dataset)-time_step-1):\n",
    "        a = dataset[i:(i+time_step), 0]   ###i=0, 0,1,2,3-----99   100 \n",
    "        dataX.append(a)\n",
    "        dataY.append(dataset[i + time_step, 0])\n",
    "    return numpy.array(dataX), numpy.array(dataY)"
   ]
  },
  {
   "cell_type": "markdown",
   "id": "293b3221-acfe-45cb-9801-c5a644db20f7",
   "metadata": {},
   "source": [
    "### using above function, splitted our *featured* data into train & test"
   ]
  },
  {
   "cell_type": "code",
   "execution_count": 50,
   "id": "0331dab6",
   "metadata": {},
   "outputs": [],
   "source": [
    "time_step = 100\n",
    "X_train, y_train = create_dataset(training_dataset, time_step)\n",
    "X_test, ytest = create_dataset(testing_dataset, time_step)"
   ]
  },
  {
   "cell_type": "code",
   "execution_count": 53,
   "id": "df4ddb4c",
   "metadata": {},
   "outputs": [
    {
     "data": {
      "text/plain": [
       "((716, 100), (716,), (340, 100), (340,))"
      ]
     },
     "execution_count": 53,
     "metadata": {},
     "output_type": "execute_result"
    }
   ],
   "source": [
    "X_train.shape,y_train.shape,X_test.shape,ytest.shape"
   ]
  },
  {
   "cell_type": "markdown",
   "id": "f251d817-0210-41dd-9383-df212ee0a56e",
   "metadata": {},
   "source": [
    "### preparing data for adding into Stacked LSTM model"
   ]
  },
  {
   "cell_type": "code",
   "execution_count": 56,
   "id": "d42d10d5",
   "metadata": {},
   "outputs": [],
   "source": [
    "X_train=X_train.reshape(X_train.shape[0],X_train.shape[1],1)\n",
    "X_test=X_test.reshape(X_test.shape[0],X_test.shape[1],1)"
   ]
  },
  {
   "cell_type": "code",
   "execution_count": 57,
   "id": "434f5378",
   "metadata": {},
   "outputs": [
    {
     "data": {
      "text/plain": [
       "((716, 100, 1), (340, 100, 1))"
      ]
     },
     "execution_count": 57,
     "metadata": {},
     "output_type": "execute_result"
    }
   ],
   "source": [
    "X_train.shape,X_test.shape"
   ]
  },
  {
   "cell_type": "markdown",
   "id": "aeca4c65-5a29-4a26-9450-9fb27ae094c4",
   "metadata": {},
   "source": [
    "### imported necessary deep learning libraries "
   ]
  },
  {
   "cell_type": "code",
   "execution_count": 59,
   "id": "d2db1d64",
   "metadata": {},
   "outputs": [],
   "source": [
    "from tensorflow import keras\n",
    "from keras.models import Sequential\n",
    "from keras.layers import Dense\n",
    "from keras.layers import LSTM"
   ]
  },
  {
   "cell_type": "markdown",
   "id": "ea1bd74b-54f5-4c15-9123-81b7896a56ca",
   "metadata": {},
   "source": [
    "### Stacked LSTM model preparation"
   ]
  },
  {
   "cell_type": "code",
   "execution_count": 60,
   "id": "975488bf",
   "metadata": {},
   "outputs": [],
   "source": [
    "model=Sequential()\n",
    "model.add(LSTM(50,return_sequences=True,input_shape=(100,1)))\n",
    "model.add(LSTM(50,return_sequences=True))\n",
    "model.add(LSTM(50))\n",
    "model.add(Dense(1))"
   ]
  },
  {
   "cell_type": "code",
   "execution_count": 61,
   "id": "0771ec1d",
   "metadata": {},
   "outputs": [],
   "source": [
    "model.compile(optimizer=\"adam\",loss=\"mean_squared_error\")"
   ]
  },
  {
   "cell_type": "code",
   "execution_count": 62,
   "id": "8bf1aa0c",
   "metadata": {},
   "outputs": [
    {
     "name": "stdout",
     "output_type": "stream",
     "text": [
      "Model: \"sequential\"\n",
      "_________________________________________________________________\n",
      " Layer (type)                Output Shape              Param #   \n",
      "=================================================================\n",
      " lstm (LSTM)                 (None, 100, 50)           10400     \n",
      "                                                                 \n",
      " lstm_1 (LSTM)               (None, 100, 50)           20200     \n",
      "                                                                 \n",
      " lstm_2 (LSTM)               (None, 50)                20200     \n",
      "                                                                 \n",
      " dense (Dense)               (None, 1)                 51        \n",
      "                                                                 \n",
      "=================================================================\n",
      "Total params: 50,851\n",
      "Trainable params: 50,851\n",
      "Non-trainable params: 0\n",
      "_________________________________________________________________\n"
     ]
    }
   ],
   "source": [
    "model.summary()"
   ]
  },
  {
   "cell_type": "code",
   "execution_count": 63,
   "id": "27ca1452",
   "metadata": {},
   "outputs": [
    {
     "name": "stdout",
     "output_type": "stream",
     "text": [
      "Epoch 1/100\n",
      "23/23 [==============================] - 12s 227ms/step - loss: 0.0094 - val_loss: 0.0043\n",
      "Epoch 2/100\n",
      "23/23 [==============================] - 3s 152ms/step - loss: 0.0011 - val_loss: 0.0040\n",
      "Epoch 3/100\n",
      "23/23 [==============================] - 3s 153ms/step - loss: 7.9071e-04 - val_loss: 0.0052\n",
      "Epoch 4/100\n",
      "23/23 [==============================] - 4s 155ms/step - loss: 6.6859e-04 - val_loss: 0.0036\n",
      "Epoch 5/100\n",
      "23/23 [==============================] - 3s 153ms/step - loss: 6.2450e-04 - val_loss: 0.0036\n",
      "Epoch 6/100\n",
      "23/23 [==============================] - 4s 154ms/step - loss: 5.6268e-04 - val_loss: 0.0046\n",
      "Epoch 7/100\n",
      "23/23 [==============================] - 4s 156ms/step - loss: 5.8390e-04 - val_loss: 0.0031\n",
      "Epoch 8/100\n",
      "23/23 [==============================] - 3s 153ms/step - loss: 5.3337e-04 - val_loss: 0.0031\n",
      "Epoch 9/100\n",
      "23/23 [==============================] - 4s 154ms/step - loss: 5.6353e-04 - val_loss: 0.0026\n",
      "Epoch 10/100\n",
      "23/23 [==============================] - 4s 153ms/step - loss: 5.4198e-04 - val_loss: 0.0024\n",
      "Epoch 11/100\n",
      "23/23 [==============================] - 3s 153ms/step - loss: 5.1113e-04 - val_loss: 0.0025\n",
      "Epoch 12/100\n",
      "23/23 [==============================] - 3s 153ms/step - loss: 5.4891e-04 - val_loss: 0.0024\n",
      "Epoch 13/100\n",
      "23/23 [==============================] - 3s 152ms/step - loss: 5.9291e-04 - val_loss: 0.0022\n",
      "Epoch 14/100\n",
      "23/23 [==============================] - 3s 152ms/step - loss: 4.4310e-04 - val_loss: 0.0020\n",
      "Epoch 15/100\n",
      "23/23 [==============================] - 3s 153ms/step - loss: 4.8440e-04 - val_loss: 0.0023\n",
      "Epoch 16/100\n",
      "23/23 [==============================] - 4s 154ms/step - loss: 4.5040e-04 - val_loss: 0.0023\n",
      "Epoch 17/100\n",
      "23/23 [==============================] - 3s 152ms/step - loss: 4.3766e-04 - val_loss: 0.0023\n",
      "Epoch 18/100\n",
      "23/23 [==============================] - 4s 154ms/step - loss: 3.7756e-04 - val_loss: 0.0019\n",
      "Epoch 19/100\n",
      "23/23 [==============================] - 3s 152ms/step - loss: 4.2423e-04 - val_loss: 0.0015\n",
      "Epoch 20/100\n",
      "23/23 [==============================] - 4s 154ms/step - loss: 3.7579e-04 - val_loss: 0.0020\n",
      "Epoch 21/100\n",
      "23/23 [==============================] - 3s 153ms/step - loss: 3.4317e-04 - val_loss: 0.0026\n",
      "Epoch 22/100\n",
      "23/23 [==============================] - 3s 153ms/step - loss: 3.5865e-04 - val_loss: 0.0021\n",
      "Epoch 23/100\n",
      "23/23 [==============================] - 4s 156ms/step - loss: 3.2300e-04 - val_loss: 0.0032\n",
      "Epoch 24/100\n",
      "23/23 [==============================] - 3s 152ms/step - loss: 4.0658e-04 - val_loss: 0.0015\n",
      "Epoch 25/100\n",
      "23/23 [==============================] - 3s 151ms/step - loss: 2.9848e-04 - val_loss: 0.0015\n",
      "Epoch 26/100\n",
      "23/23 [==============================] - 4s 153ms/step - loss: 3.0781e-04 - val_loss: 0.0014\n",
      "Epoch 27/100\n",
      "23/23 [==============================] - 3s 151ms/step - loss: 2.8197e-04 - val_loss: 0.0015\n",
      "Epoch 28/100\n",
      "23/23 [==============================] - 3s 152ms/step - loss: 2.8556e-04 - val_loss: 0.0014\n",
      "Epoch 29/100\n",
      "23/23 [==============================] - 3s 150ms/step - loss: 2.8697e-04 - val_loss: 0.0014\n",
      "Epoch 30/100\n",
      "23/23 [==============================] - 3s 151ms/step - loss: 3.0364e-04 - val_loss: 0.0016\n",
      "Epoch 31/100\n",
      "23/23 [==============================] - 3s 151ms/step - loss: 2.9811e-04 - val_loss: 0.0014\n",
      "Epoch 32/100\n",
      "23/23 [==============================] - 3s 151ms/step - loss: 2.3977e-04 - val_loss: 0.0019\n",
      "Epoch 33/100\n",
      "23/23 [==============================] - 3s 151ms/step - loss: 2.3856e-04 - val_loss: 0.0012\n",
      "Epoch 34/100\n",
      "23/23 [==============================] - 3s 150ms/step - loss: 2.3249e-04 - val_loss: 0.0012\n",
      "Epoch 35/100\n",
      "23/23 [==============================] - 4s 156ms/step - loss: 2.2331e-04 - val_loss: 0.0015\n",
      "Epoch 36/100\n",
      "23/23 [==============================] - 3s 151ms/step - loss: 1.9758e-04 - val_loss: 0.0013\n",
      "Epoch 37/100\n",
      "23/23 [==============================] - 4s 153ms/step - loss: 2.0376e-04 - val_loss: 0.0013\n",
      "Epoch 38/100\n",
      "23/23 [==============================] - 3s 151ms/step - loss: 2.0963e-04 - val_loss: 0.0018\n",
      "Epoch 39/100\n",
      "23/23 [==============================] - 3s 151ms/step - loss: 1.7451e-04 - val_loss: 0.0012\n",
      "Epoch 40/100\n",
      "23/23 [==============================] - 3s 153ms/step - loss: 1.8054e-04 - val_loss: 9.8565e-04\n",
      "Epoch 41/100\n",
      "23/23 [==============================] - 3s 151ms/step - loss: 1.6755e-04 - val_loss: 9.8294e-04\n",
      "Epoch 42/100\n",
      "23/23 [==============================] - 4s 157ms/step - loss: 1.7244e-04 - val_loss: 0.0010\n",
      "Epoch 43/100\n",
      "23/23 [==============================] - 3s 152ms/step - loss: 1.5523e-04 - val_loss: 9.9591e-04\n",
      "Epoch 44/100\n",
      "23/23 [==============================] - 3s 150ms/step - loss: 1.8854e-04 - val_loss: 9.2194e-04\n",
      "Epoch 45/100\n",
      "23/23 [==============================] - 3s 151ms/step - loss: 1.8331e-04 - val_loss: 9.1775e-04\n",
      "Epoch 46/100\n",
      "23/23 [==============================] - 3s 151ms/step - loss: 1.4085e-04 - val_loss: 8.6270e-04\n",
      "Epoch 47/100\n",
      "23/23 [==============================] - 3s 151ms/step - loss: 1.4327e-04 - val_loss: 0.0017\n",
      "Epoch 48/100\n",
      "23/23 [==============================] - 3s 151ms/step - loss: 1.9429e-04 - val_loss: 9.0809e-04\n",
      "Epoch 49/100\n",
      "23/23 [==============================] - 3s 151ms/step - loss: 1.4269e-04 - val_loss: 8.0840e-04\n",
      "Epoch 50/100\n",
      "23/23 [==============================] - 3s 152ms/step - loss: 1.3244e-04 - val_loss: 8.0028e-04\n",
      "Epoch 51/100\n",
      "23/23 [==============================] - 3s 152ms/step - loss: 1.3439e-04 - val_loss: 0.0012\n",
      "Epoch 52/100\n",
      "23/23 [==============================] - 3s 151ms/step - loss: 1.3694e-04 - val_loss: 0.0011\n",
      "Epoch 53/100\n",
      "23/23 [==============================] - 3s 149ms/step - loss: 1.4029e-04 - val_loss: 0.0013\n",
      "Epoch 54/100\n",
      "23/23 [==============================] - 3s 151ms/step - loss: 1.4701e-04 - val_loss: 9.8292e-04\n",
      "Epoch 55/100\n",
      "23/23 [==============================] - 3s 151ms/step - loss: 1.2148e-04 - val_loss: 9.6539e-04\n",
      "Epoch 56/100\n",
      "23/23 [==============================] - 3s 151ms/step - loss: 1.2050e-04 - val_loss: 8.1020e-04\n",
      "Epoch 57/100\n",
      "23/23 [==============================] - 3s 151ms/step - loss: 1.4495e-04 - val_loss: 0.0011\n",
      "Epoch 58/100\n",
      "23/23 [==============================] - 3s 151ms/step - loss: 1.3703e-04 - val_loss: 9.3823e-04\n",
      "Epoch 59/100\n",
      "23/23 [==============================] - 3s 153ms/step - loss: 1.2122e-04 - val_loss: 0.0010\n",
      "Epoch 60/100\n",
      "23/23 [==============================] - 3s 152ms/step - loss: 1.1689e-04 - val_loss: 7.8292e-04\n",
      "Epoch 61/100\n",
      "23/23 [==============================] - 3s 150ms/step - loss: 1.2804e-04 - val_loss: 9.0188e-04\n",
      "Epoch 62/100\n",
      "23/23 [==============================] - 3s 151ms/step - loss: 1.2787e-04 - val_loss: 0.0010\n",
      "Epoch 63/100\n",
      "23/23 [==============================] - 3s 152ms/step - loss: 1.0577e-04 - val_loss: 8.1804e-04\n",
      "Epoch 64/100\n",
      "23/23 [==============================] - 3s 151ms/step - loss: 1.0817e-04 - val_loss: 7.9841e-04\n",
      "Epoch 65/100\n",
      "23/23 [==============================] - 3s 151ms/step - loss: 1.0392e-04 - val_loss: 7.9825e-04\n",
      "Epoch 66/100\n",
      "23/23 [==============================] - 3s 153ms/step - loss: 1.0144e-04 - val_loss: 8.1503e-04\n",
      "Epoch 67/100\n",
      "23/23 [==============================] - 3s 151ms/step - loss: 1.1140e-04 - val_loss: 9.4862e-04\n",
      "Epoch 68/100\n",
      "23/23 [==============================] - 4s 153ms/step - loss: 1.2225e-04 - val_loss: 7.9669e-04\n",
      "Epoch 69/100\n",
      "23/23 [==============================] - 3s 152ms/step - loss: 1.0690e-04 - val_loss: 8.0069e-04\n",
      "Epoch 70/100\n",
      "23/23 [==============================] - 3s 153ms/step - loss: 1.0074e-04 - val_loss: 8.6567e-04\n",
      "Epoch 71/100\n",
      "23/23 [==============================] - 3s 150ms/step - loss: 1.0915e-04 - val_loss: 7.9957e-04\n",
      "Epoch 72/100\n",
      "23/23 [==============================] - 3s 152ms/step - loss: 9.7625e-05 - val_loss: 8.0508e-04\n",
      "Epoch 73/100\n",
      "23/23 [==============================] - 3s 151ms/step - loss: 1.0100e-04 - val_loss: 8.1529e-04\n",
      "Epoch 74/100\n",
      "23/23 [==============================] - 3s 150ms/step - loss: 1.0890e-04 - val_loss: 9.1021e-04\n",
      "Epoch 75/100\n",
      "23/23 [==============================] - 3s 151ms/step - loss: 9.7794e-05 - val_loss: 8.3658e-04\n",
      "Epoch 76/100\n",
      "23/23 [==============================] - 4s 153ms/step - loss: 1.0941e-04 - val_loss: 8.3158e-04\n",
      "Epoch 77/100\n",
      "23/23 [==============================] - 3s 150ms/step - loss: 9.4045e-05 - val_loss: 0.0010\n",
      "Epoch 78/100\n",
      "23/23 [==============================] - 3s 151ms/step - loss: 9.7131e-05 - val_loss: 8.8973e-04\n",
      "Epoch 79/100\n",
      "23/23 [==============================] - 3s 152ms/step - loss: 1.0377e-04 - val_loss: 8.7121e-04\n",
      "Epoch 80/100\n",
      "23/23 [==============================] - 3s 151ms/step - loss: 1.0891e-04 - val_loss: 8.8602e-04\n",
      "Epoch 81/100\n",
      "23/23 [==============================] - 3s 150ms/step - loss: 1.1190e-04 - val_loss: 0.0012\n",
      "Epoch 82/100\n",
      "23/23 [==============================] - 3s 150ms/step - loss: 1.0823e-04 - val_loss: 8.7559e-04\n",
      "Epoch 83/100\n",
      "23/23 [==============================] - 3s 152ms/step - loss: 9.0456e-05 - val_loss: 8.8369e-04\n",
      "Epoch 84/100\n",
      "23/23 [==============================] - 3s 150ms/step - loss: 1.1019e-04 - val_loss: 0.0010\n",
      "Epoch 85/100\n",
      "23/23 [==============================] - 3s 151ms/step - loss: 9.8287e-05 - val_loss: 0.0011\n",
      "Epoch 86/100\n",
      "23/23 [==============================] - 3s 150ms/step - loss: 9.4994e-05 - val_loss: 9.0211e-04\n",
      "Epoch 87/100\n",
      "23/23 [==============================] - 3s 151ms/step - loss: 8.7206e-05 - val_loss: 9.3266e-04\n",
      "Epoch 88/100\n",
      "23/23 [==============================] - 3s 152ms/step - loss: 8.9925e-05 - val_loss: 9.5723e-04\n",
      "Epoch 89/100\n",
      "23/23 [==============================] - 3s 151ms/step - loss: 9.0592e-05 - val_loss: 0.0013\n",
      "Epoch 90/100\n",
      "23/23 [==============================] - 3s 151ms/step - loss: 9.5113e-05 - val_loss: 9.4381e-04\n",
      "Epoch 91/100\n",
      "23/23 [==============================] - 3s 151ms/step - loss: 1.0530e-04 - val_loss: 0.0012\n",
      "Epoch 92/100\n",
      "23/23 [==============================] - 4s 153ms/step - loss: 8.9595e-05 - val_loss: 0.0012\n",
      "Epoch 93/100\n",
      "23/23 [==============================] - 4s 156ms/step - loss: 9.5242e-05 - val_loss: 0.0010\n",
      "Epoch 94/100\n",
      "23/23 [==============================] - 4s 157ms/step - loss: 1.0293e-04 - val_loss: 0.0010\n",
      "Epoch 95/100\n",
      "23/23 [==============================] - 4s 157ms/step - loss: 9.1837e-05 - val_loss: 0.0011\n",
      "Epoch 96/100\n",
      "23/23 [==============================] - 4s 163ms/step - loss: 9.6771e-05 - val_loss: 0.0011\n",
      "Epoch 97/100\n",
      "23/23 [==============================] - 4s 160ms/step - loss: 8.7231e-05 - val_loss: 0.0011\n",
      "Epoch 98/100\n",
      "23/23 [==============================] - 4s 157ms/step - loss: 8.2830e-05 - val_loss: 0.0013\n",
      "Epoch 99/100\n",
      "23/23 [==============================] - 3s 151ms/step - loss: 8.1799e-05 - val_loss: 0.0012\n",
      "Epoch 100/100\n",
      "23/23 [==============================] - 4s 154ms/step - loss: 8.1327e-05 - val_loss: 0.0016\n"
     ]
    },
    {
     "data": {
      "text/plain": [
       "<keras.callbacks.History at 0x29a326e44f0>"
      ]
     },
     "execution_count": 63,
     "metadata": {},
     "output_type": "execute_result"
    }
   ],
   "source": [
    "model.fit(X_train,y_train,epochs=100,batch_size=32,validation_data=(X_test,ytest),verbose=1)"
   ]
  },
  {
   "cell_type": "markdown",
   "id": "3e137302-230c-4c3b-8b73-05890b322bc3",
   "metadata": {},
   "source": [
    "### Predicting the data and inversing it from 0 to 1 to actual value form"
   ]
  },
  {
   "cell_type": "code",
   "execution_count": 69,
   "id": "b5a55f17",
   "metadata": {},
   "outputs": [
    {
     "name": "stdout",
     "output_type": "stream",
     "text": [
      "23/23 [==============================] - 3s 50ms/step\n",
      "11/11 [==============================] - 1s 50ms/step\n"
     ]
    }
   ],
   "source": [
    "train_predict=model.predict(X_train)\n",
    "test_predict=model.predict(X_test)"
   ]
  },
  {
   "cell_type": "code",
   "execution_count": 71,
   "id": "913e5b0a",
   "metadata": {},
   "outputs": [],
   "source": [
    "train_predict=mmscaler.inverse_transform(train_predict)\n",
    "test_predict=mmscaler.inverse_transform(test_predict)"
   ]
  },
  {
   "cell_type": "code",
   "execution_count": 73,
   "id": "942b5c41",
   "metadata": {},
   "outputs": [
    {
     "data": {
      "text/plain": [
       "(716, 1)"
      ]
     },
     "execution_count": 73,
     "metadata": {},
     "output_type": "execute_result"
    }
   ],
   "source": [
    "train_predict.shape"
   ]
  },
  {
   "cell_type": "markdown",
   "id": "27a12fbc-f0c3-4243-85bc-130f0e9b18cf",
   "metadata": {},
   "source": [
    "### Testing Root Mean Squared Error"
   ]
  },
  {
   "cell_type": "code",
   "execution_count": 74,
   "id": "302b0a54",
   "metadata": {},
   "outputs": [
    {
     "data": {
      "text/plain": [
       "233.37424217437922"
      ]
     },
     "execution_count": 74,
     "metadata": {},
     "output_type": "execute_result"
    }
   ],
   "source": [
    "from sklearn.metrics import mean_squared_error\n",
    "import math\n",
    "rmse=math.sqrt(mean_squared_error(ytest,test_predict))\n",
    "rmse"
   ]
  },
  {
   "cell_type": "markdown",
   "id": "4254d170-d480-40a4-bdb4-eeef4d78bf14",
   "metadata": {},
   "source": [
    "### Training RMSE value"
   ]
  },
  {
   "cell_type": "code",
   "execution_count": 82,
   "id": "4789c384",
   "metadata": {},
   "outputs": [
    {
     "data": {
      "text/plain": [
       "140.88441834199475"
      ]
     },
     "execution_count": 82,
     "metadata": {},
     "output_type": "execute_result"
    }
   ],
   "source": [
    "from sklearn.metrics import mean_squared_error\n",
    "import math\n",
    "rmse2=math.sqrt(mean_squared_error(y_train,train_predict))\n",
    "rmse2"
   ]
  },
  {
   "cell_type": "code",
   "execution_count": 96,
   "id": "20c029b0",
   "metadata": {},
   "outputs": [],
   "source": [
    "a=numpy.empty_like(df1)"
   ]
  },
  {
   "cell_type": "code",
   "execution_count": 103,
   "id": "d63c0ad3",
   "metadata": {},
   "outputs": [
    {
     "data": {
      "text/plain": [
       "716"
      ]
     },
     "execution_count": 103,
     "metadata": {},
     "output_type": "execute_result"
    }
   ],
   "source": [
    "len(train_predict)"
   ]
  },
  {
   "cell_type": "code",
   "execution_count": 104,
   "id": "b5574fe4",
   "metadata": {},
   "outputs": [
    {
     "data": {
      "text/plain": [
       "1258"
      ]
     },
     "execution_count": 104,
     "metadata": {},
     "output_type": "execute_result"
    }
   ],
   "source": [
    "len(df1)"
   ]
  },
  {
   "cell_type": "markdown",
   "id": "b321c615-b5a0-4cdd-9173-dd78696082df",
   "metadata": {},
   "source": [
    "### Plotting Actual, Training and Testing graph together"
   ]
  },
  {
   "cell_type": "code",
   "execution_count": 99,
   "id": "cb4c769b",
   "metadata": {},
   "outputs": [
    {
     "data": {
      "image/png": "[encoded data removed]",
      "text/plain": [
       "<Figure size 640x480 with 1 Axes>"
      ]
     },
     "metadata": {},
     "output_type": "display_data"
    }
   ],
   "source": [
    "time_step=100\n",
    "trainPredictPlot = numpy.empty_like(df1)\n",
    "trainPredictPlot[:, :] = np.nan\n",
    "trainPredictPlot[time_step:len(train_predict)+time_step, :] = train_predict\n",
    "\n",
    "testPredictPlot = numpy.empty_like(df1)\n",
    "testPredictPlot[:, :] = numpy.nan\n",
    "testPredictPlot[len(train_predict)+(time_step*2)+1:len(df1)-1, :] = test_predict\n",
    "\n",
    "plt.plot(mmscaler.inverse_transform(df1))\n",
    "plt.plot(trainPredictPlot)\n",
    "plt.plot(testPredictPlot)\n",
    "plt.show()"
   ]
  },
  {
   "cell_type": "markdown",
   "id": "9276dd71-2b14-4088-96bc-e1abbe97e8c5",
   "metadata": {},
   "source": [
    "### In the above graph\n",
    "### 1). Blue line --> acutal data\n",
    "### 2).Orange --> training predicted data\n",
    "### 3). Green -->testing predicted data"
   ]
  },
  {
   "cell_type": "code",
   "execution_count": null,
   "id": "9b797965-045c-4c5d-a217-4ea32a77f8d5",
   "metadata": {},
   "outputs": [],
   "source": []
  }
 ],
 "metadata": {
  "kernelspec": {
   "display_name": "Python 3 (ipykernel)",
   "language": "python",
   "name": "python3"
  },
  "language_info": {
   "codemirror_mode": {
    "name": "ipython",
    "version": 3
   },
   "file_extension": ".py",
   "mimetype": "text/x-python",
   "name": "python",
   "nbconvert_exporter": "python",
   "pygments_lexer": "ipython3",
   "version": "3.9.13"
  }
 },
 "nbformat": 4,
 "nbformat_minor": 5
}
